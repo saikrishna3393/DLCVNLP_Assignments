{
 "cells": [
  {
   "cell_type": "markdown",
   "metadata": {},
   "source": [
    "Write a function to compute 5/0 and use try/except to catch the exceptions."
   ]
  },
  {
   "cell_type": "code",
   "execution_count": 42,
   "metadata": {},
   "outputs": [],
   "source": [
    "def division():\n",
    "    a = int(input(\"Enter numerator\"))\n",
    "    b = int(input(\"Enter Denominator\"))\n",
    "    try:\n",
    "        print(\"{}/{} is {}\".format(a,b,a/b))\n",
    "        \n",
    "    except ZeroDivisionError:\n",
    "        print(\"\\n\")\n",
    "        print(\"It is a zero division error\")\n",
    "        print(\"please enter a new number\")\n",
    "        print(\"\\n\")\n",
    "        division()\n",
    "    finally:\n",
    "        pass\n",
    "   "
   ]
  },
  {
   "cell_type": "code",
   "execution_count": 43,
   "metadata": {},
   "outputs": [
    {
     "name": "stdout",
     "output_type": "stream",
     "text": [
      "Enter numerator5\n",
      "Enter Denominator0\n",
      "\n",
      "\n",
      "It is a zero division error\n",
      "please enter a new number\n",
      "\n",
      "\n",
      "Enter numerator5\n",
      "Enter Denominator10\n",
      "5/10 is 0.5\n"
     ]
    }
   ],
   "source": [
    "division()"
   ]
  },
  {
   "cell_type": "code",
   "execution_count": null,
   "metadata": {},
   "outputs": [],
   "source": []
  },
  {
   "cell_type": "markdown",
   "metadata": {},
   "source": [
    "Implement a Python program to generate all sentences where subject is in\n",
    "[\"Americans\", \"Indians\"] and verb is in [\"Play\", \"watch\"] and the object is in\n",
    "[\"Baseball\",\"cricket\"]."
   ]
  },
  {
   "cell_type": "code",
   "execution_count": 18,
   "metadata": {},
   "outputs": [],
   "source": [
    "subjects=[\"Americans \",\"Indians\"]\n",
    "verbs=[\"play\",\"watch\"]\n",
    "objects=[\"Baseball\",\"Cricket\"]"
   ]
  },
  {
   "cell_type": "code",
   "execution_count": 20,
   "metadata": {},
   "outputs": [
    {
     "name": "stdout",
     "output_type": "stream",
     "text": [
      "Americans    play   Baseball\n",
      "Americans    play   Cricket\n",
      "Americans    watch   Baseball\n",
      "Americans    watch   Cricket\n",
      "Indians   play   Baseball\n",
      "Indians   play   Cricket\n",
      "Indians   watch   Baseball\n",
      "Indians   watch   Cricket\n"
     ]
    }
   ],
   "source": [
    "for i in subjects:\n",
    "    for j in verbs:\n",
    "        for k in objects:\n",
    "            print(i,\" \",j,\" \",k)"
   ]
  },
  {
   "cell_type": "code",
   "execution_count": null,
   "metadata": {},
   "outputs": [],
   "source": []
  }
 ],
 "metadata": {
  "kernelspec": {
   "display_name": "Python 3",
   "language": "python",
   "name": "python3"
  },
  "language_info": {
   "codemirror_mode": {
    "name": "ipython",
    "version": 3
   },
   "file_extension": ".py",
   "mimetype": "text/x-python",
   "name": "python",
   "nbconvert_exporter": "python",
   "pygments_lexer": "ipython3",
   "version": "3.6.5"
  }
 },
 "nbformat": 4,
 "nbformat_minor": 2
}
